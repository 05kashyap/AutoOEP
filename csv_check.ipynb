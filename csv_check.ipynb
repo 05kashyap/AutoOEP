{
 "cells": [
  {
   "cell_type": "code",
   "execution_count": 1,
   "id": "7ac990e3",
   "metadata": {},
   "outputs": [],
   "source": [
    "import pandas as pd"
   ]
  },
  {
   "cell_type": "code",
   "execution_count": 2,
   "id": "dc1fd94e",
   "metadata": {},
   "outputs": [],
   "source": [
    "df1 = pd.read_csv(r\"C:\\Users\\singl\\Desktop\\Bhuvanesh\\NITK\\SEM4\\IT255_AI\\Project Files\\FinalRepo\\CheatusDeletus\\processed_results\\Train_Video1_processed.csv\")\n",
    "df2 = pd.read_csv(r\"C:\\Users\\singl\\Desktop\\Bhuvanesh\\NITK\\SEM4\\IT255_AI\\Project Files\\FinalRepo\\CheatusDeletus\\processed_results\\Train_Video2_processed.csv\")\n",
    "df3 = pd.read_csv(r\"C:\\Users\\singl\\Desktop\\Bhuvanesh\\NITK\\SEM4\\IT255_AI\\Project Files\\FinalRepo\\CheatusDeletus\\processed_results\\Test_Video1_processed.csv\")\n",
    "df4 = pd.read_csv(r\"C:\\Users\\singl\\Desktop\\Bhuvanesh\\NITK\\SEM4\\IT255_AI\\Project Files\\FinalRepo\\CheatusDeletus\\processed_results\\Test_Video2_processed.csv\")"
   ]
  },
  {
   "cell_type": "code",
   "execution_count": null,
   "id": "c4589d58",
   "metadata": {},
   "outputs": [
    {
     "data": {
      "text/plain": [
       "(0.7876543209876543, 0.7806882383153569, 0.8392101551480959, 0.971252566735113)"
      ]
     },
     "execution_count": 5,
     "metadata": {},
     "output_type": "execute_result"
    }
   ],
   "source": [
    "df1.verification_result.sum() / len(df1), df2.verification_result.sum() / len(df2), df3.verification_result.sum() / len(df3), df4.verification_result.sum() / len(df4)"
   ]
  },
  {
   "cell_type": "code",
   "execution_count": null,
   "id": "4ab7ca8b",
   "metadata": {},
   "outputs": [],
   "source": []
  }
 ],
 "metadata": {
  "kernelspec": {
   "display_name": "final-run",
   "language": "python",
   "name": "python3"
  },
  "language_info": {
   "codemirror_mode": {
    "name": "ipython",
    "version": 3
   },
   "file_extension": ".py",
   "mimetype": "text/x-python",
   "name": "python",
   "nbconvert_exporter": "python",
   "pygments_lexer": "ipython3",
   "version": "3.11.2"
  }
 },
 "nbformat": 4,
 "nbformat_minor": 5
}
